{
 "cells": [
  {
   "cell_type": "code",
   "execution_count": 1,
   "metadata": {},
   "outputs": [],
   "source": [
    "import numpy as np\n",
    "import os\n",
    "import time\n",
    "import torch"
   ]
  },
  {
   "cell_type": "code",
   "execution_count": 2,
   "metadata": {},
   "outputs": [
    {
     "name": "stdout",
     "output_type": "stream",
     "text": [
      "1.18.1\n",
      "1.5.0\n"
     ]
    }
   ],
   "source": [
    "print(np.__version__)\n",
    "print(torch.__version__)"
   ]
  },
  {
   "cell_type": "markdown",
   "metadata": {},
   "source": [
    "# Vectorization"
   ]
  },
  {
   "cell_type": "code",
   "execution_count": 3,
   "metadata": {},
   "outputs": [],
   "source": [
    "def basic_dot(x, y):\n",
    "    assert(len(x) == len(y))\n",
    "    \n",
    "    result = 0\n",
    "    for i in range(len(x)):\n",
    "        result += x[i]*y[i]\n",
    "        \n",
    "    return result"
   ]
  },
  {
   "cell_type": "code",
   "execution_count": 4,
   "metadata": {},
   "outputs": [],
   "source": [
    "def dot(x, y):\n",
    "    return np.dot(x, y)"
   ]
  },
  {
   "cell_type": "code",
   "execution_count": 5,
   "metadata": {},
   "outputs": [
    {
     "name": "stdout",
     "output_type": "stream",
     "text": [
      "7082791\n"
     ]
    }
   ],
   "source": [
    "np.random.seed(0)\n",
    "X = np.random.randint(-1000, 1000, size=3000)\n",
    "Y = np.random.randint(-1000, 1000, size=3000)\n",
    "\n",
    "print(dot(X,Y))\n",
    "assert basic_dot(X,Y) == dot(X,Y)"
   ]
  },
  {
   "cell_type": "code",
   "execution_count": 6,
   "metadata": {},
   "outputs": [],
   "source": [
    "def basic_outer(x, y):\n",
    "    result = np.zeros((len(x), len(y))) \n",
    "    for i in range(len(x)):\n",
    "        for j in range(len(y)):\n",
    "            result[i, j] = x[i]*y[j]\n",
    "    \n",
    "    return result"
   ]
  },
  {
   "cell_type": "code",
   "execution_count": 7,
   "metadata": {},
   "outputs": [],
   "source": [
    "def outer(x, y):\n",
    "    return np.outer(x, y)"
   ]
  },
  {
   "cell_type": "code",
   "execution_count": 8,
   "metadata": {},
   "outputs": [
    {
     "name": "stdout",
     "output_type": "stream",
     "text": [
      "[[  59092 -144096  136512 ...  -53088  -86268   53404]\n",
      " [  82467 -201096  190512 ...  -74088 -120393   74529]\n",
      " [-122111  297768 -282096 ...  109704  178269 -110357]\n",
      " ...\n",
      " [-144551  352488 -333936 ...  129864  211029 -130637]\n",
      " [-179707  438216 -415152 ...  161448  262353 -162409]\n",
      " [  88825 -216600  205200 ...  -79800 -129675   80275]]\n"
     ]
    }
   ],
   "source": [
    "np.random.seed(0)\n",
    "X = np.random.randint(-1000, 1000, size=3000)\n",
    "Y = np.random.randint(-1000, 1000, size=3000)\n",
    "\n",
    "print(outer(X,Y))\n",
    "assert np.all(basic_outer(X,Y) == outer(X,Y))"
   ]
  },
  {
   "cell_type": "code",
   "execution_count": 9,
   "metadata": {},
   "outputs": [],
   "source": [
    "def basic_multiply(x, y):\n",
    "    assert(len(x) == len(y))\n",
    "    \n",
    "    result = np.zeros(len(x))\n",
    "    for i in range(len(x)):\n",
    "        result[i] = x[i]*y[i]\n",
    "    \n",
    "    return result"
   ]
  },
  {
   "cell_type": "code",
   "execution_count": 10,
   "metadata": {},
   "outputs": [],
   "source": [
    "def multiply(x, y):\n",
    "    return np.multiply(x, y)"
   ]
  },
  {
   "cell_type": "code",
   "execution_count": 11,
   "metadata": {},
   "outputs": [
    {
     "name": "stdout",
     "output_type": "stream",
     "text": [
      "[  59092 -201096 -282096 ...  129864  262353   80275]\n"
     ]
    }
   ],
   "source": [
    "np.random.seed(0)\n",
    "X = np.random.randint(-1000, 1000, size=3000)\n",
    "Y = np.random.randint(-1000, 1000, size=3000)\n",
    "\n",
    "print(multiply(X,Y))\n",
    "assert np.all(basic_multiply(X,Y) == multiply(X,Y))"
   ]
  },
  {
   "cell_type": "code",
   "execution_count": 12,
   "metadata": {},
   "outputs": [],
   "source": [
    "def basic_sumproduct(x, y):\n",
    "    assert(len(x) == len(y))\n",
    "    \n",
    "    result = 0\n",
    "    for i in range(len(x)):\n",
    "        for j in range(len(y)):\n",
    "            result += x[i] * y[j]\n",
    "            \n",
    "    return result"
   ]
  },
  {
   "cell_type": "code",
   "execution_count": 13,
   "metadata": {},
   "outputs": [],
   "source": [
    "def sumproduct(x, y):\n",
    "    return np.sum(np.sum(x) * y)"
   ]
  },
  {
   "cell_type": "code",
   "execution_count": 14,
   "metadata": {},
   "outputs": [
    {
     "name": "stdout",
     "output_type": "stream",
     "text": [
      "265421520\n"
     ]
    }
   ],
   "source": [
    "np.random.seed(0)\n",
    "X = np.random.randint(-1000, 1000, size=3000)\n",
    "Y = np.random.randint(-1000, 1000, size=3000)\n",
    "\n",
    "print(sumproduct(X,Y))\n",
    "assert basic_sumproduct(X,Y) == sumproduct(X,Y)"
   ]
  },
  {
   "cell_type": "code",
   "execution_count": 15,
   "metadata": {},
   "outputs": [],
   "source": [
    "def basic_ReLU(x):\n",
    "    result = np.copy(x)\n",
    "    for i in range(x.shape[0]):\n",
    "        for j in range(x.shape[1]):\n",
    "            if x[i][j] < 0:\n",
    "                result[i][j] = 0\n",
    "                \n",
    "    return result"
   ]
  },
  {
   "cell_type": "code",
   "execution_count": 23,
   "metadata": {},
   "outputs": [],
   "source": [
    "def ReLU(x):\n",
    "    return np.where(x >= 0, x, 0)"
   ]
  },
  {
   "cell_type": "code",
   "execution_count": 24,
   "metadata": {},
   "outputs": [
    {
     "name": "stdout",
     "output_type": "stream",
     "text": [
      "[[  0   0 653 ... 773 961   0]\n",
      " [  0 456   0 ... 168 273   0]\n",
      " [936 475   0 ... 408   0   0]\n",
      " ...\n",
      " [  0 396 457 ... 646   0   0]\n",
      " [645 943   0 ... 863   0 790]\n",
      " [641   0 379 ... 347   0   0]]\n"
     ]
    }
   ],
   "source": [
    "np.random.seed(0)\n",
    "X = np.random.randint(-1000, 1000, size=(3000,3000))\n",
    "\n",
    "print(ReLU(X))\n",
    "assert np.all(basic_ReLU(X) == ReLU(X))"
   ]
  },
  {
   "cell_type": "code",
   "execution_count": 25,
   "metadata": {},
   "outputs": [],
   "source": [
    "def basic_PrimeReLU(x):\n",
    "    result = np.copy(x)\n",
    "    for i in range(x.shape[0]):\n",
    "        for j in range(x.shape[1]):\n",
    "            if x[i][j] < 0:\n",
    "                result[i][j] = 0\n",
    "            else:\n",
    "                result[i][j] = 1\n",
    "                \n",
    "    return result"
   ]
  },
  {
   "cell_type": "code",
   "execution_count": 26,
   "metadata": {},
   "outputs": [],
   "source": [
    "def PrimeReLU(x):\n",
    "    return np.where(x >= 0, 1, 0)"
   ]
  },
  {
   "cell_type": "code",
   "execution_count": 27,
   "metadata": {},
   "outputs": [
    {
     "name": "stdout",
     "output_type": "stream",
     "text": [
      "[[0 0 1 ... 1 1 0]\n",
      " [0 1 0 ... 1 1 0]\n",
      " [1 1 0 ... 1 0 0]\n",
      " ...\n",
      " [0 1 1 ... 1 0 0]\n",
      " [1 1 0 ... 1 0 1]\n",
      " [1 0 1 ... 1 0 0]]\n",
      "[[0 0 1 ... 1 1 0]\n",
      " [0 1 0 ... 1 1 0]\n",
      " [1 1 0 ... 1 0 0]\n",
      " ...\n",
      " [0 1 1 ... 1 0 0]\n",
      " [1 1 0 ... 1 0 1]\n",
      " [1 0 1 ... 1 0 0]]\n"
     ]
    }
   ],
   "source": [
    "np.random.seed(0)\n",
    "X = np.random.randint(-1000, 1000, size=(3000,3000))\n",
    "\n",
    "print(PrimeReLU(X))\n",
    "print(basic_PrimeReLU(X))\n",
    "assert np.all(basic_PrimeReLU(X) == PrimeReLU(X))"
   ]
  },
  {
   "cell_type": "markdown",
   "metadata": {},
   "source": [
    "# Preprocessing"
   ]
  },
  {
   "cell_type": "markdown",
   "metadata": {},
   "source": [
    "## Slicing Last Point"
   ]
  },
  {
   "cell_type": "code",
   "execution_count": 28,
   "metadata": {},
   "outputs": [],
   "source": [
    "def get_data_1():\n",
    "    \"\"\"\n",
    "    This is the generating process from which example data 1 will derive\n",
    "    \n",
    "    Parameters: \n",
    "    None\n",
    "    \n",
    "    Returns: \n",
    "    numpy.ndarray: 1-d numpy array with 2-d numpy arrays as elements.\n",
    "    \"\"\"\n",
    "    freq000 = 3; freq001 = 1; freq002 = 4; freq003 = 1\n",
    "    freq010 = 5; freq011 = 9; freq012 = 2; freq013 = 6\n",
    "    freq020 = 5; freq021 = 3; freq022 = 5; freq023 = 8\n",
    "    frame00 = np.array([freq000, freq001, freq002, freq003])\n",
    "    frame01 = np.array([freq010, freq011, freq012, freq013])\n",
    "    frame02 = np.array([freq020, freq021, freq022, freq023])\n",
    "    utterance0 = np.array([frame00, frame01, frame02])\n",
    "\n",
    "    freq100 = 9; freq101 = 7; freq102 = 9; freq103 = 3\n",
    "    freq110 = 2; freq111 = 3; freq112 = 8; freq113 = 4\n",
    "    frame10 = np.array([freq100, freq101, freq102, freq103])\n",
    "    frame11 = np.array([freq110, freq111, freq112, freq113])\n",
    "    utterance1 = np.array([frame10, frame11])\n",
    "\n",
    "    freq200 = 6; freq201 = 2; freq202 = 6; freq203 = 4\n",
    "    freq210 = 3; freq211 = 3; freq212 = 8; freq213 = 3\n",
    "    freq220 = 2; freq221 = 7; freq222 = 9; freq223 = 5\n",
    "    freq230 = 0; freq231 = 2; freq232 = 8; freq233 = 8\n",
    "    frame20 = np.array([freq200, freq201, freq202, freq203])\n",
    "    frame21 = np.array([freq210, freq211, freq212, freq213])\n",
    "    frame22 = np.array([freq220, freq221, freq222, freq223])\n",
    "    frame23 = np.array([freq230, freq231, freq232, freq233])\n",
    "    utterance2 = np.array([frame20, frame21, frame22, frame23])\n",
    "\n",
    "    spectrograms = np.array([utterance0, utterance1, utterance2])\n",
    "\n",
    "    return spectrograms\n",
    "\n",
    "def get_data_2():\n",
    "    \"\"\"\n",
    "    This is the generating process from which example data 2 will derive\n",
    "    \n",
    "    Parameters: \n",
    "    None\n",
    "    \n",
    "    Returns: \n",
    "    numpy.ndarray: 1-d numpy array with 2-d numpy arrays as elements.\n",
    "    \"\"\"\n",
    "    np.random.seed(0)\n",
    "    recordings = np.random.randint(10)\n",
    "    durations = [np.random.randint(low=5, high=10) \n",
    "                 for i in range(recordings)]\n",
    "    data = []\n",
    "    k = 40 # Given as fixed constant\n",
    "    for duration in durations:\n",
    "        data.append(np.random.randint(10, size=(duration, k)))\n",
    "    data = np.asarray(data)\n",
    "    return data"
   ]
  },
  {
   "cell_type": "code",
   "execution_count": 38,
   "metadata": {},
   "outputs": [],
   "source": [
    "def slice_last_point(x, m):\n",
    "    \"\"\"\n",
    "    Takes one 3-dimensional array with the length of the output instances.\n",
    "    Your task is to keep only the last m points for each instances in \n",
    "    the dataset.\n",
    "\n",
    "    Parameters: \n",
    "    x (numpy.ndarray): 1-d numpy array with 2-d numpy arrays as elements (n, ?, k). \n",
    "    m (int): The cutoff reference index in dimension 2.\n",
    "  \n",
    "    Returns: \n",
    "    numpy.ndarray: A 3-dimensional numpy array of shape (n, m, k)\n",
    "    \"\"\"\n",
    "    spectrograms = x\n",
    "    \n",
    "    # Input function dimension specification\n",
    "    assert(spectrograms.ndim == 1)\n",
    "    for utter in spectrograms:\n",
    "        assert(utter.ndim == 2)\n",
    "\n",
    "    # Pre-define output function dimension specification\n",
    "    dim1 = spectrograms.shape[0]    # n\n",
    "    dim2 = m                       # m\n",
    "    dim3 = spectrograms[0].shape[1] # k\n",
    "\n",
    "    result = np.zeros((dim1,dim2,dim3))\n",
    "\n",
    "    #### Start of your code ####\n",
    "    for i in range(dim1):\n",
    "        result[i,:,:] = x[i][-m:, :]\n",
    "    \n",
    "    ####  End of your code  ####\n",
    "\n",
    "    # Assert output function dimension specification\n",
    "    assert(result.shape[0] == dim1)\n",
    "    assert(result.shape[1] == dim2)\n",
    "    assert(result.shape[2] == dim3)\n",
    "    \n",
    "    return result"
   ]
  },
  {
   "cell_type": "code",
   "execution_count": 39,
   "metadata": {},
   "outputs": [
    {
     "name": "stdout",
     "output_type": "stream",
     "text": [
      "[[[5. 9. 2. 6.]\n",
      "  [5. 3. 5. 8.]]\n",
      "\n",
      " [[9. 7. 9. 3.]\n",
      "  [2. 3. 8. 4.]]\n",
      "\n",
      " [[2. 7. 9. 5.]\n",
      "  [0. 2. 8. 8.]]]\n"
     ]
    }
   ],
   "source": [
    "spectrograms = get_data_1()\n",
    "duration = 2\n",
    "print(slice_last_point(spectrograms, duration))"
   ]
  },
  {
   "cell_type": "code",
   "execution_count": 40,
   "metadata": {},
   "outputs": [
    {
     "name": "stdout",
     "output_type": "stream",
     "text": [
      "[[7. 2. 7. 1. 6. 5. 0. 0. 3. 1. 9. 9. 6. 6. 7. 8. 8. 7. 0. 8. 6. 8. 9. 8.\n",
      "  3. 6. 1. 7. 4. 9. 2. 0. 8. 2. 7. 8. 4. 4. 1. 7.]\n",
      " [6. 9. 4. 1. 5. 9. 7. 1. 3. 5. 7. 3. 6. 6. 7. 9. 1. 9. 6. 0. 3. 8. 4. 1.\n",
      "  4. 5. 0. 3. 1. 4. 4. 4. 0. 0. 8. 4. 6. 9. 3. 3.]\n",
      " [2. 1. 2. 1. 3. 4. 1. 1. 0. 7. 8. 4. 3. 5. 6. 3. 2. 9. 8. 1. 4. 0. 8. 3.\n",
      "  9. 5. 5. 1. 7. 8. 6. 4. 7. 3. 5. 3. 6. 4. 7. 3.]\n",
      " [0. 5. 9. 3. 7. 5. 5. 8. 0. 8. 3. 6. 9. 3. 2. 7. 0. 3. 0. 3. 6. 1. 9. 2.\n",
      "  9. 4. 9. 1. 3. 2. 4. 9. 7. 4. 9. 4. 1. 2. 7. 2.]\n",
      " [3. 9. 7. 6. 6. 2. 3. 6. 0. 8. 0. 7. 6. 5. 9. 6. 5. 2. 7. 1. 9. 2. 2. 5.\n",
      "  6. 4. 2. 2. 1. 0. 9. 0. 2. 8. 3. 0. 8. 8. 1. 0.]]\n"
     ]
    }
   ],
   "source": [
    "data = get_data_2()\n",
    "m = 5\n",
    "print(slice_last_point(data, m)[1])"
   ]
  },
  {
   "cell_type": "markdown",
   "metadata": {},
   "source": [
    "## Slicing: Fixed Point"
   ]
  },
  {
   "cell_type": "code",
   "execution_count": 41,
   "metadata": {},
   "outputs": [],
   "source": [
    "def slice_fixed_point(x, s, m):\n",
    "    \"\"\"\n",
    "    Takes one 3-dimensional array with the starting position and the \n",
    "    length of the output instances. Your task is to slice the instances \n",
    "    from the same starting position for the given length.\n",
    "\n",
    "    Parameters:\n",
    "    x (numpy.ndarray): 1-d numpy array with 2-d numpy arrays as elements (n, ?, k).\n",
    "    s (int): The starting reference index in dimension 2.\n",
    "    m (int): The cutoff reference index in dimension 2.\n",
    "    \n",
    "    Returns:\n",
    "    numpy.ndarray: A 3-dimensional int numpy array of shape (n, m-s, k)\n",
    "    \"\"\"\n",
    "    spectrograms = x\n",
    "    \n",
    "    # Input function dimension specification\n",
    "    assert(spectrograms.ndim == 1)\n",
    "    for utter in spectrograms:\n",
    "        assert(utter.ndim == 2)\n",
    "\n",
    "    # Pre-define output function dimension specification\n",
    "    dim1 = spectrograms.shape[0]     # n\n",
    "    dim2 = m-s                      # m-s\n",
    "    dim3 = spectrograms[0].shape[1]  # k\n",
    "\n",
    "    result = np.zeros((dim1,dim2,dim3))\n",
    "\n",
    "    #### Start of your code ####\n",
    "    for i in range(dim1):\n",
    "        result[i,:,:] = x[i][s:m, :]\n",
    "    \n",
    "    ####  End of your code  ####\n",
    "\n",
    "    # Assert output function dimension specification\n",
    "    assert(result.shape[0] == dim1)\n",
    "    assert(result.shape[1] == dim2)\n",
    "    assert(result.shape[2] == dim3)\n",
    "    \n",
    "    return result"
   ]
  },
  {
   "cell_type": "code",
   "execution_count": 42,
   "metadata": {},
   "outputs": [
    {
     "name": "stdout",
     "output_type": "stream",
     "text": [
      "[[[3. 1. 4. 1.]\n",
      "  [5. 9. 2. 6.]]\n",
      "\n",
      " [[9. 7. 9. 3.]\n",
      "  [2. 3. 8. 4.]]\n",
      "\n",
      " [[6. 2. 6. 4.]\n",
      "  [3. 3. 8. 3.]]]\n"
     ]
    }
   ],
   "source": [
    "spectrograms = get_data_1()\n",
    "start = 0\n",
    "end = 2\n",
    "print(slice_fixed_point(spectrograms, start, end))"
   ]
  },
  {
   "cell_type": "code",
   "execution_count": 43,
   "metadata": {},
   "outputs": [
    {
     "name": "stdout",
     "output_type": "stream",
     "text": [
      "[[8. 7. 0. 3. 8. 7. 7. 1. 8. 4. 7. 0. 4. 9. 0. 6. 4. 2. 4. 6. 3. 3. 7. 8.\n",
      "  5. 0. 8. 5. 4. 7. 4. 1. 3. 3. 9. 2. 5. 2. 3. 5.]\n",
      " [7. 2. 7. 1. 6. 5. 0. 0. 3. 1. 9. 9. 6. 6. 7. 8. 8. 7. 0. 8. 6. 8. 9. 8.\n",
      "  3. 6. 1. 7. 4. 9. 2. 0. 8. 2. 7. 8. 4. 4. 1. 7.]\n",
      " [6. 9. 4. 1. 5. 9. 7. 1. 3. 5. 7. 3. 6. 6. 7. 9. 1. 9. 6. 0. 3. 8. 4. 1.\n",
      "  4. 5. 0. 3. 1. 4. 4. 4. 0. 0. 8. 4. 6. 9. 3. 3.]]\n"
     ]
    }
   ],
   "source": [
    "data = get_data_2()\n",
    "s = 2\n",
    "m = 5\n",
    "print(slice_fixed_point(data, s, m)[1])"
   ]
  },
  {
   "cell_type": "markdown",
   "metadata": {},
   "source": [
    "## Slicing: Random Point"
   ]
  },
  {
   "cell_type": "code",
   "execution_count": 44,
   "metadata": {},
   "outputs": [],
   "source": [
    "def slice_random_point(x, d):\n",
    "    \"\"\"\n",
    "    Takes one 3-dimensional array with the length of the output instances.\n",
    "    Your task is to slice the instances from a random point in each of the\n",
    "    utterances with the given length. Please use offset and refer to their \n",
    "    mathematical correspondance.\n",
    "\n",
    "    Parameters: \n",
    "    x (numpy.ndarray): 1-d numpy array with 2-d numpy arrays as elements (n, ?, k).\n",
    "    d (int): The resulting size of the data in dimension 2.\n",
    "    \n",
    "    Returns: \n",
    "    numpy.ndarray: A 3-dimensional int numpy array of shape (n, d, k)\n",
    "    \"\"\"\n",
    "    spectrograms = x\n",
    "    \n",
    "    # Input function dimension specification\n",
    "    assert(spectrograms.ndim == 1)\n",
    "    for utter in spectrograms:\n",
    "        assert(utter.ndim == 2)\n",
    "        assert(utter.shape[0] >= d)\n",
    "\n",
    "    offset = [np.random.randint(utter.shape[0]-d+1)\n",
    "              if utter.shape[0]-d > 0 else 0\n",
    "              for utter in spectrograms]\n",
    "\n",
    "    # Pre-define output function dimension specification\n",
    "    dim1 = spectrograms.shape[0]    # n\n",
    "    dim2 = d                       # d\n",
    "    dim3 = spectrograms[0].shape[1] # k\n",
    "\n",
    "    result = np.zeros((dim1,dim2,dim3))\n",
    "\n",
    "    #### Start of your code ####\n",
    "    for i in range(dim1):\n",
    "        result[i,:,:] = x[i][offset[i]:offset[i]+d,:]\n",
    "    \n",
    "    \n",
    "    ####  End of your code  ####\n",
    "\n",
    "    # Assert output function dimension specification\n",
    "    assert(result.shape[0] == dim1)\n",
    "    assert(result.shape[1] == dim2)\n",
    "    assert(result.shape[2] == dim3)\n",
    "    \n",
    "    return result"
   ]
  },
  {
   "cell_type": "code",
   "execution_count": 45,
   "metadata": {},
   "outputs": [
    {
     "name": "stdout",
     "output_type": "stream",
     "text": [
      "[[[5. 9. 2. 6.]\n",
      "  [5. 3. 5. 8.]]\n",
      "\n",
      " [[9. 7. 9. 3.]\n",
      "  [2. 3. 8. 4.]]\n",
      "\n",
      " [[6. 2. 6. 4.]\n",
      "  [3. 3. 8. 3.]]]\n"
     ]
    }
   ],
   "source": [
    "np.random.seed(1)\n",
    "spectrograms = get_data_1()\n",
    "duration = 2\n",
    "print(slice_random_point(spectrograms, duration))"
   ]
  },
  {
   "cell_type": "code",
   "execution_count": 46,
   "metadata": {},
   "outputs": [
    {
     "name": "stdout",
     "output_type": "stream",
     "text": [
      "[[3. 3. 7. 9. 9. 9. 7. 3. 2. 3. 9. 7. 7. 5. 1. 2. 2. 8. 1. 5. 8. 4. 0. 2.\n",
      "  5. 5. 0. 8. 1. 1. 0. 3. 8. 8. 4. 4. 0. 9. 3. 7.]\n",
      " [3. 2. 1. 1. 2. 1. 4. 2. 5. 5. 5. 2. 5. 7. 7. 6. 1. 6. 7. 2. 3. 1. 9. 5.\n",
      "  9. 9. 2. 0. 9. 1. 9. 0. 6. 0. 4. 8. 4. 3. 3. 8.]\n",
      " [8. 7. 0. 3. 8. 7. 7. 1. 8. 4. 7. 0. 4. 9. 0. 6. 4. 2. 4. 6. 3. 3. 7. 8.\n",
      "  5. 0. 8. 5. 4. 7. 4. 1. 3. 3. 9. 2. 5. 2. 3. 5.]\n",
      " [7. 2. 7. 1. 6. 5. 0. 0. 3. 1. 9. 9. 6. 6. 7. 8. 8. 7. 0. 8. 6. 8. 9. 8.\n",
      "  3. 6. 1. 7. 4. 9. 2. 0. 8. 2. 7. 8. 4. 4. 1. 7.]]\n"
     ]
    }
   ],
   "source": [
    "data = get_data_2()\n",
    "d = 4\n",
    "print(slice_random_point(data, d)[1])"
   ]
  },
  {
   "cell_type": "markdown",
   "metadata": {},
   "source": [
    "## Slicing: Ending Pattern"
   ]
  },
  {
   "cell_type": "code",
   "execution_count": 52,
   "metadata": {},
   "outputs": [],
   "source": [
    "def pad_ending_pattern(x):\n",
    "    \"\"\"\n",
    "    Takes one 3-dimensional array. Your task is to pad the instances from \n",
    "    the end position as shown in the example below. That is, you need to \n",
    "    pads with the reflection of the vector mirrored along the edge of the array.\n",
    "    \n",
    "    Parameters: \n",
    "    x (numpy.ndarray): 1-d numpy array with 2-d numpy arrays as elements.\n",
    "    \n",
    "    Returns: \n",
    "    numpy.ndarray: 3-dimensional int numpy array\n",
    "    \"\"\"\n",
    "    spectrograms = x\n",
    "    \n",
    "    # Input function dimension specification\n",
    "    assert(spectrograms.ndim == 1)\n",
    "    for utter in spectrograms:\n",
    "        assert(utter.ndim == 2)\n",
    "\n",
    "    # Pre-define output function dimension specification\n",
    "    dim1 = spectrograms.shape[0]    # n\n",
    "    dim2 = max([utter.shape[0] for utter in spectrograms]) # m\n",
    "    dim3 = spectrograms[0].shape[1] # k\n",
    "\n",
    "    result = np.zeros((dim1, dim2, dim3))\n",
    "\n",
    "    #### Start of your code ####\n",
    "    for i in range(dim1):\n",
    "        x_dim2 = x[i].shape[0]\n",
    "        result[i,:x_dim2,:] = x[i][:,:]\n",
    "        padded = dim2 - x_dim2\n",
    "        for j in range(-1, -(padded + 1), -1):\n",
    "            result[i,x_dim2-j-1,:] = x[i][j,:]\n",
    "    \n",
    "    ####  End of your code  ####\n",
    "\n",
    "    # Assert output function dimension specification\n",
    "    assert(result.shape[0] == dim1)\n",
    "    assert(result.shape[1] == dim2)\n",
    "    assert(result.shape[2] == dim3)\n",
    "    \n",
    "    return result"
   ]
  },
  {
   "cell_type": "code",
   "execution_count": 53,
   "metadata": {},
   "outputs": [
    {
     "name": "stdout",
     "output_type": "stream",
     "text": [
      "[[[3. 1. 4. 1.]\n",
      "  [5. 9. 2. 6.]\n",
      "  [5. 3. 5. 8.]\n",
      "  [5. 3. 5. 8.]]\n",
      "\n",
      " [[9. 7. 9. 3.]\n",
      "  [2. 3. 8. 4.]\n",
      "  [2. 3. 8. 4.]\n",
      "  [9. 7. 9. 3.]]\n",
      "\n",
      " [[6. 2. 6. 4.]\n",
      "  [3. 3. 8. 3.]\n",
      "  [2. 7. 9. 5.]\n",
      "  [0. 2. 8. 8.]]]\n"
     ]
    }
   ],
   "source": [
    "spectrograms = get_data_1()\n",
    "duration = 2\n",
    "print(pad_ending_pattern(spectrograms))"
   ]
  },
  {
   "cell_type": "code",
   "execution_count": 59,
   "metadata": {},
   "outputs": [
    {
     "name": "stdout",
     "output_type": "stream",
     "text": [
      "[[8. 2. 4. 3. 1. 6. 5. 8. 4. 3. 6. 5. 3. 7. 8. 8. 3. 7. 8. 5. 7. 2. 7. 8.\n",
      "  0. 7. 4. 8. 4. 4. 0. 4. 8. 0. 0. 4. 7. 3. 7. 7.]\n",
      " [2. 2. 1. 7. 0. 7. 5. 9. 7. 1. 1. 2. 4. 1. 4. 5. 8. 2. 1. 6. 3. 0. 3. 9.\n",
      "  5. 1. 3. 7. 1. 1. 7. 9. 4. 2. 0. 3. 2. 4. 0. 0.]\n",
      " [9. 3. 8. 3. 0. 4. 4. 0. 2. 5. 5. 8. 2. 7. 3. 6. 1. 0. 2. 2. 5. 5. 1. 2.\n",
      "  8. 7. 3. 7. 3. 1. 0. 1. 0. 8. 8. 5. 3. 3. 1. 0.]\n",
      " [6. 1. 6. 9. 5. 7. 0. 1. 4. 9. 5. 1. 6. 5. 4. 4. 4. 7. 2. 2. 6. 5. 3. 0.\n",
      "  8. 8. 1. 8. 7. 5. 7. 9. 4. 0. 7. 2. 3. 9. 5. 4.]\n",
      " [0. 4. 5. 8. 1. 4. 8. 0. 1. 1. 8. 9. 4. 9. 0. 3. 0. 7. 0. 8. 1. 2. 8. 5.\n",
      "  8. 2. 1. 3. 5. 0. 2. 5. 8. 6. 2. 7. 7. 1. 8. 4.]\n",
      " [9. 3. 3. 2. 9. 0. 4. 6. 4. 3. 2. 3. 1. 1. 2. 7. 2. 7. 0. 1. 8. 0. 5. 2.\n",
      "  8. 0. 4. 0. 3. 8. 1. 6. 4. 6. 9. 6. 4. 7. 2. 9.]\n",
      " [9. 3. 3. 2. 9. 0. 4. 6. 4. 3. 2. 3. 1. 1. 2. 7. 2. 7. 0. 1. 8. 0. 5. 2.\n",
      "  8. 0. 4. 0. 3. 8. 1. 6. 4. 6. 9. 6. 4. 7. 2. 9.]\n",
      " [0. 4. 5. 8. 1. 4. 8. 0. 1. 1. 8. 9. 4. 9. 0. 3. 0. 7. 0. 8. 1. 2. 8. 5.\n",
      "  8. 2. 1. 3. 5. 0. 2. 5. 8. 6. 2. 7. 7. 1. 8. 4.]]\n"
     ]
    }
   ],
   "source": [
    "data = get_data_2()\n",
    "print(pad_ending_pattern(data)[4])"
   ]
  },
  {
   "cell_type": "markdown",
   "metadata": {},
   "source": [
    "## Padding: Constant Central Pattern"
   ]
  },
  {
   "cell_type": "code",
   "execution_count": 56,
   "metadata": {},
   "outputs": [],
   "source": [
    "def pad_constant_central_pattern(x, cval):\n",
    "    \"\"\"\n",
    "    Takes one 3-dimensional array with the constant value of padding. \n",
    "    Your task is to pad the instances with the given constant value while\n",
    "    maintaining the array at the center of the padding.\n",
    "\n",
    "    Parameters: \n",
    "    x (numpy.ndarray): 1-d numpy array with 2-d numpy arrays as elements.\n",
    "    cval (numpy.int64): scalar quantity.\n",
    "    \n",
    "    Returns: \n",
    "    numpy.ndarray: 3-dimensional int numpy array, (n, m, k).\n",
    "    \"\"\"\n",
    "    spectrograms = x\n",
    "    \n",
    "    # Input function dimension specification\n",
    "    assert(spectrograms.ndim == 1)\n",
    "    for utter in spectrograms:\n",
    "        assert(utter.ndim == 2)\n",
    "\n",
    "    dim1 = spectrograms.shape[0]    # n\n",
    "    dim2 = max([utter.shape[0] for utter in spectrograms]) # m\n",
    "    dim3 = spectrograms[0].shape[1] # k\n",
    "\n",
    "    result = np.ones((dim1,dim2,dim3))\n",
    "\n",
    "    #### Start of your code ####\n",
    "    for i in range(dim1):\n",
    "        result[i,:,:] = cval\n",
    "        x_dim2 = x[i].shape[0]\n",
    "        start = (dim2 - x_dim2) // 2\n",
    "        result[i,start:start+x_dim2,:] = x[i]\n",
    "    \n",
    "    ####  End of your code  ####\n",
    "\n",
    "    # Assert output function dimension specification\n",
    "    assert(result.shape[0] == dim1)\n",
    "    assert(result.shape[1] == dim2)\n",
    "    assert(result.shape[2] == dim3)\n",
    "    \n",
    "    return result"
   ]
  },
  {
   "cell_type": "code",
   "execution_count": 57,
   "metadata": {},
   "outputs": [
    {
     "name": "stdout",
     "output_type": "stream",
     "text": [
      "[[[3. 1. 4. 1.]\n",
      "  [5. 9. 2. 6.]\n",
      "  [5. 3. 5. 8.]\n",
      "  [0. 0. 0. 0.]]\n",
      "\n",
      " [[0. 0. 0. 0.]\n",
      "  [9. 7. 9. 3.]\n",
      "  [2. 3. 8. 4.]\n",
      "  [0. 0. 0. 0.]]\n",
      "\n",
      " [[6. 2. 6. 4.]\n",
      "  [3. 3. 8. 3.]\n",
      "  [2. 7. 9. 5.]\n",
      "  [0. 2. 8. 8.]]]\n"
     ]
    }
   ],
   "source": [
    "spectrograms = get_data_1()\n",
    "duration = 2\n",
    "print(pad_constant_central_pattern(spectrograms, 0))"
   ]
  },
  {
   "cell_type": "code",
   "execution_count": 58,
   "metadata": {},
   "outputs": [
    {
     "name": "stdout",
     "output_type": "stream",
     "text": [
      "[[0. 0. 0. 0. 0. 0. 0. 0. 0. 0. 0. 0. 0. 0. 0. 0. 0. 0. 0. 0. 0. 0. 0. 0.\n",
      "  0. 0. 0. 0. 0. 0. 0. 0. 0. 0. 0. 0. 0. 0. 0. 0.]\n",
      " [3. 5. 2. 4. 7. 6. 8. 8. 1. 6. 7. 7. 8. 1. 5. 9. 8. 9. 4. 3. 0. 3. 5. 0.\n",
      "  2. 3. 8. 1. 3. 3. 3. 7. 0. 1. 9. 9. 0. 4. 7. 3.]\n",
      " [2. 7. 2. 0. 0. 4. 5. 5. 6. 8. 4. 1. 4. 9. 8. 1. 1. 7. 9. 9. 3. 6. 7. 2.\n",
      "  0. 3. 5. 9. 4. 4. 6. 4. 4. 3. 4. 4. 8. 4. 3. 7.]\n",
      " [5. 5. 0. 1. 5. 9. 3. 0. 5. 0. 1. 2. 4. 2. 0. 3. 2. 0. 7. 5. 9. 0. 2. 7.\n",
      "  2. 9. 2. 3. 3. 2. 3. 4. 1. 2. 9. 1. 4. 6. 8. 2.]\n",
      " [3. 0. 0. 6. 0. 6. 3. 3. 8. 8. 8. 2. 3. 2. 0. 8. 8. 3. 8. 2. 8. 4. 3. 0.\n",
      "  4. 3. 6. 9. 8. 0. 8. 5. 9. 0. 9. 6. 5. 3. 1. 8.]\n",
      " [0. 4. 9. 6. 5. 7. 8. 8. 9. 2. 8. 6. 6. 9. 1. 6. 8. 8. 3. 2. 3. 6. 3. 6.\n",
      "  5. 7. 0. 8. 4. 6. 5. 8. 2. 3. 9. 7. 5. 3. 4. 5.]\n",
      " [0. 0. 0. 0. 0. 0. 0. 0. 0. 0. 0. 0. 0. 0. 0. 0. 0. 0. 0. 0. 0. 0. 0. 0.\n",
      "  0. 0. 0. 0. 0. 0. 0. 0. 0. 0. 0. 0. 0. 0. 0. 0.]\n",
      " [0. 0. 0. 0. 0. 0. 0. 0. 0. 0. 0. 0. 0. 0. 0. 0. 0. 0. 0. 0. 0. 0. 0. 0.\n",
      "  0. 0. 0. 0. 0. 0. 0. 0. 0. 0. 0. 0. 0. 0. 0. 0.]]\n"
     ]
    }
   ],
   "source": [
    "data = get_data_2()\n",
    "print(pad_constant_central_pattern(data, cval = 0)[0])"
   ]
  },
  {
   "cell_type": "markdown",
   "metadata": {},
   "source": [
    "# PyTorch"
   ]
  },
  {
   "cell_type": "code",
   "execution_count": 60,
   "metadata": {},
   "outputs": [],
   "source": [
    "def numpy2tensor(x):\n",
    "    return torch.from_numpy(x)"
   ]
  },
  {
   "cell_type": "code",
   "execution_count": 61,
   "metadata": {},
   "outputs": [
    {
     "name": "stdout",
     "output_type": "stream",
     "text": [
      "<class 'torch.Tensor'>\n"
     ]
    }
   ],
   "source": [
    "X = np.random.randint(-1000, 1000, size=3000)\n",
    "\n",
    "print(type(numpy2tensor(X)))"
   ]
  },
  {
   "cell_type": "code",
   "execution_count": 62,
   "metadata": {},
   "outputs": [],
   "source": [
    "def tensor2numpy(x):\n",
    "    return x.numpy()"
   ]
  },
  {
   "cell_type": "code",
   "execution_count": 63,
   "metadata": {},
   "outputs": [
    {
     "name": "stdout",
     "output_type": "stream",
     "text": [
      "<class 'numpy.ndarray'>\n"
     ]
    }
   ],
   "source": [
    "X = np.random.randint(-1000, 1000, size=3000)\n",
    "X = torch.from_numpy(X)\n",
    "\n",
    "print(type(tensor2numpy(X)))"
   ]
  },
  {
   "cell_type": "code",
   "execution_count": 66,
   "metadata": {},
   "outputs": [],
   "source": [
    "def tensor_sumproducts(x, y):\n",
    "    return (x.sum() * y).sum()"
   ]
  },
  {
   "cell_type": "code",
   "execution_count": 67,
   "metadata": {},
   "outputs": [
    {
     "name": "stdout",
     "output_type": "stream",
     "text": [
      "tensor(265421520)\n"
     ]
    }
   ],
   "source": [
    "np.random.seed(0)\n",
    "X = np.random.randint(-1000, 1000, size=3000)\n",
    "X = torch.from_numpy(X)\n",
    "Y = np.random.randint(-1000, 1000, size=3000)\n",
    "Y = torch.from_numpy(Y)\n",
    "\n",
    "print(tensor_sumproducts(X,Y))"
   ]
  },
  {
   "cell_type": "code",
   "execution_count": 72,
   "metadata": {},
   "outputs": [],
   "source": [
    "def tensor_ReLU(x):\n",
    "    zero = torch.tensor([0])\n",
    "    return torch.where(x >= 0, x, zero)"
   ]
  },
  {
   "cell_type": "code",
   "execution_count": 73,
   "metadata": {},
   "outputs": [
    {
     "name": "stdout",
     "output_type": "stream",
     "text": [
      "tensor([[  0,   0, 653,  ...,   0,   0,   0],\n",
      "        [  0,   0,   0,  ..., 988,   0,   0],\n",
      "        [265,   0, 608,  ..., 773, 961,   0],\n",
      "        ...,\n",
      "        [429, 102,   0,  ..., 467, 118,   0],\n",
      "        [532,  55,   0,  ..., 912, 779, 294],\n",
      "        [  0,  51,   0,  ...,   0,   0,   0]])\n"
     ]
    }
   ],
   "source": [
    "np.random.seed(0)\n",
    "X = np.random.randint(-1000, 1000, size=(1000,1000))\n",
    "X = torch.from_numpy(X)\n",
    "\n",
    "print(tensor_ReLU(X))"
   ]
  },
  {
   "cell_type": "code",
   "execution_count": 74,
   "metadata": {},
   "outputs": [],
   "source": [
    "def tensor_ReLU_prime(x):\n",
    "    ones = torch.tensor([1])\n",
    "    zero = torch.tensor([0])\n",
    "    return torch.where(x >= 0, ones, zero)"
   ]
  },
  {
   "cell_type": "code",
   "execution_count": 75,
   "metadata": {},
   "outputs": [
    {
     "name": "stdout",
     "output_type": "stream",
     "text": [
      "tensor([[0, 0, 1,  ..., 0, 0, 0],\n",
      "        [0, 0, 0,  ..., 1, 0, 0],\n",
      "        [1, 0, 1,  ..., 1, 1, 0],\n",
      "        ...,\n",
      "        [1, 1, 0,  ..., 1, 1, 0],\n",
      "        [1, 1, 0,  ..., 1, 1, 1],\n",
      "        [0, 1, 0,  ..., 0, 0, 0]])\n"
     ]
    }
   ],
   "source": [
    "np.random.seed(0)\n",
    "X = np.random.randint(-1000, 1000, size=(1000,1000))\n",
    "X = torch.from_numpy(X)\n",
    "\n",
    "print(tensor_ReLU_prime(X))"
   ]
  },
  {
   "cell_type": "code",
   "execution_count": null,
   "metadata": {},
   "outputs": [],
   "source": []
  }
 ],
 "metadata": {
  "kernelspec": {
   "display_name": "Python 3",
   "language": "python",
   "name": "python3"
  },
  "language_info": {
   "codemirror_mode": {
    "name": "ipython",
    "version": 3
   },
   "file_extension": ".py",
   "mimetype": "text/x-python",
   "name": "python",
   "nbconvert_exporter": "python",
   "pygments_lexer": "ipython3",
   "version": "3.7.7"
  }
 },
 "nbformat": 4,
 "nbformat_minor": 4
}
